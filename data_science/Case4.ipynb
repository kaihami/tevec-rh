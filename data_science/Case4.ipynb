{
 "cells": [
  {
   "cell_type": "code",
   "execution_count": 1,
   "metadata": {},
   "outputs": [
    {
     "name": "stderr",
     "output_type": "stream",
     "text": [
      "Using Theano backend.\n"
     ]
    }
   ],
   "source": [
    "import os\n",
    "os.environ['KERAS_BACKEND'] = 'theano'\n",
    "from keras.preprocessing import sequence\n",
    "from keras.models import Sequential\n",
    "from keras.layers import Dense, Embedding\n",
    "from keras.layers import LSTM\n",
    "from keras.datasets import imdb\n",
    "from keras.layers import Dropout, Activation\n",
    "from keras.layers import Conv1D, MaxPooling1D,BatchNormalization,Flatten\n",
    "from keras.models import load_model\n",
    "from keras.preprocessing.text import text_to_word_sequence"
   ]
  },
  {
   "cell_type": "code",
   "execution_count": null,
   "metadata": {},
   "outputs": [],
   "source": []
  },
  {
   "cell_type": "code",
   "execution_count": 2,
   "metadata": {},
   "outputs": [],
   "source": [
    "# Loading IMDB data\n",
    "\n",
    "def load_data(max_features = 100000, maxlen = 100):\n",
    "    (x_train, y_train), (x_test, y_test) = imdb.load_data(num_words=max_features)\n",
    "    x_train = sequence.pad_sequences(x_train, maxlen=maxlen)\n",
    "    x_test = sequence.pad_sequences(x_test, maxlen=maxlen)\n",
    "    print('x_train shape:', x_train.shape)\n",
    "    print('x_test shape:', x_test.shape)\n",
    "    return x_train, y_train, x_test, y_test"
   ]
  },
  {
   "cell_type": "code",
   "execution_count": 23,
   "metadata": {},
   "outputs": [],
   "source": [
    "class model:\n",
    "    def __init__(self, max_features = 100000,\n",
    "                max_len = 100):\n",
    "        self.max_features = max_features\n",
    "        self.max_len = max_len\n",
    "        self.words = imdb.get_word_index()\n",
    "        \n",
    "        pass\n",
    "    def build(self):\n",
    "        '''\n",
    "        Build a CNN model\n",
    "        '''\n",
    "        embedding_dims = 50\n",
    "        filters = 64\n",
    "        kernel_size = 3\n",
    "        hidden_dims = 250 \n",
    "\n",
    "        epochs = 2\n",
    "        number_conv_layer = 1\n",
    "\n",
    "        self.model = Sequential()\n",
    "        self.model.add(Embedding(self.max_features,\n",
    "                        embedding_dims,\n",
    "                        input_length=100))\n",
    "\n",
    "        self.model.add(Conv1D(filters,\n",
    "                     kernel_size,\n",
    "                     padding='valid',\n",
    "                     activation='relu',\n",
    "                     strides=1))\n",
    "        self.model.add(Activation('relu'))\n",
    "        self.model.add(MaxPooling1D(pool_size=2))\n",
    "        self.model.add(Dropout(0.2))\n",
    "        \n",
    "        self.model.add(Conv1D(filters,\n",
    "                     kernel_size,\n",
    "                     padding='valid',\n",
    "                     activation='relu',\n",
    "                     strides=1))\n",
    "        self.model.add(Activation('relu'))\n",
    "        self.model.add(MaxPooling1D(pool_size=2))\n",
    "        self.model.add(Dropout(0.2))\n",
    "        # Flatten\n",
    "        self.model.add(Flatten())\n",
    "        \n",
    "        # We add a vanilla hidden layers\n",
    "        self.model.add(Dense(16))\n",
    "        self.model.add(Activation('relu'))\n",
    "        self.model.add(Dropout(0.2))\n",
    "        self.model.add(Dense(1))\n",
    "        self.model.add(Activation('sigmoid'))\n",
    "        self.model.compile(optimizer='adam',\n",
    "                  loss='binary_crossentropy',\n",
    "                  metrics=['acc'])\n",
    "        \n",
    "        return model\n",
    "    \n",
    "    def train(self, x_train, y_train,\n",
    "              x_test, y_test,\n",
    "              batch_size = 32,\n",
    "              epochs = 10,\n",
    "              verbose = 2):\n",
    "        '''\n",
    "        Train model and return history\n",
    "        '''\n",
    "        history = self.model.fit(x_train, y_train, batch_size=batch_size, epochs=epochs, validation_data=(x_test, y_test), verbose = 2)\n",
    "        return history\n",
    "    \n",
    "    def save_model(self, file_name):\n",
    "        \n",
    "        self.model.save(file_name)\n",
    "    \n",
    "    def load_model(self, file_name):\n",
    "        '''\n",
    "        Load a previously trained model\n",
    "        '''\n",
    "        try:\n",
    "            del self.model\n",
    "        except: pass\n",
    "        \n",
    "        self.model = load_model(file_name)\n",
    "        \n",
    "    \n",
    "    def summary(self):\n",
    "        '''\n",
    "        Return model summary\n",
    "        '''\n",
    "        self.model.summary()\n",
    "    \n",
    "    def _scores(self, results):\n",
    "\n",
    "        final = []\n",
    "        results = [item for sublist in results for item in sublist]\n",
    "        for result in results:\n",
    "            p = result * 2\n",
    "            final.append(p-1)\n",
    "        return final\n",
    "    \n",
    "    def predict_array(self, array):\n",
    "        self.prediction = self._scores(self.model.predict(array))\n",
    "    \n",
    "    def predict_phrase(self, phrase):\n",
    "        # define the document\n",
    "        # tokenize the document\n",
    "        \n",
    "        word_vecs = []\n",
    "        \n",
    "        if isinstance(phrase, str):\n",
    "            texts = [phrase[0:100]]\n",
    "        \n",
    "        if isinstance(phrase, list):\n",
    "            texts = [x[0:100] for x in phrase]\n",
    "            \n",
    "        self.texts = texts\n",
    "        for text in self.texts:\n",
    "            result = text_to_word_sequence(text)\n",
    "            word_vec = []\n",
    "            for word in result:\n",
    "                word_vec.append(self.words[word])\n",
    "                \n",
    "            word_vecs.append(word_vec)\n",
    "        x = sequence.pad_sequences(word_vecs, maxlen= self.max_len)\n",
    "        self.prediction = self._scores(self.model.predict(x))\n"
   ]
  },
  {
   "cell_type": "code",
   "execution_count": 24,
   "metadata": {},
   "outputs": [
    {
     "name": "stdout",
     "output_type": "stream",
     "text": [
      "x_train shape: (25000, 100)\n",
      "x_test shape: (25000, 100)\n"
     ]
    }
   ],
   "source": [
    "x_train, y_train, x_test, y_test = load_data()"
   ]
  },
  {
   "cell_type": "code",
   "execution_count": null,
   "metadata": {},
   "outputs": [],
   "source": []
  },
  {
   "cell_type": "code",
   "execution_count": 25,
   "metadata": {},
   "outputs": [
    {
     "name": "stdout",
     "output_type": "stream",
     "text": [
      "_________________________________________________________________\n",
      "Layer (type)                 Output Shape              Param #   \n",
      "=================================================================\n",
      "embedding_6 (Embedding)      (None, 100, 50)           5000000   \n",
      "_________________________________________________________________\n",
      "conv1d_8 (Conv1D)            (None, 98, 64)            9664      \n",
      "_________________________________________________________________\n",
      "activation_18 (Activation)   (None, 98, 64)            0         \n",
      "_________________________________________________________________\n",
      "max_pooling1d_8 (MaxPooling1 (None, 49, 64)            0         \n",
      "_________________________________________________________________\n",
      "dropout_13 (Dropout)         (None, 49, 64)            0         \n",
      "_________________________________________________________________\n",
      "conv1d_9 (Conv1D)            (None, 47, 64)            12352     \n",
      "_________________________________________________________________\n",
      "activation_19 (Activation)   (None, 47, 64)            0         \n",
      "_________________________________________________________________\n",
      "max_pooling1d_9 (MaxPooling1 (None, 23, 64)            0         \n",
      "_________________________________________________________________\n",
      "dropout_14 (Dropout)         (None, 23, 64)            0         \n",
      "_________________________________________________________________\n",
      "flatten_6 (Flatten)          (None, 1472)              0         \n",
      "_________________________________________________________________\n",
      "dense_11 (Dense)             (None, 16)                23568     \n",
      "_________________________________________________________________\n",
      "activation_20 (Activation)   (None, 16)                0         \n",
      "_________________________________________________________________\n",
      "dropout_15 (Dropout)         (None, 16)                0         \n",
      "_________________________________________________________________\n",
      "dense_12 (Dense)             (None, 1)                 17        \n",
      "_________________________________________________________________\n",
      "activation_21 (Activation)   (None, 1)                 0         \n",
      "=================================================================\n",
      "Total params: 5,045,601\n",
      "Trainable params: 5,045,601\n",
      "Non-trainable params: 0\n",
      "_________________________________________________________________\n"
     ]
    }
   ],
   "source": [
    "m = model()\n",
    "m.build()\n",
    "m.summary()"
   ]
  },
  {
   "cell_type": "code",
   "execution_count": 26,
   "metadata": {},
   "outputs": [
    {
     "name": "stdout",
     "output_type": "stream",
     "text": [
      "Train on 25000 samples, validate on 25000 samples\n",
      "Epoch 1/3\n",
      " - 55s - loss: 0.4711 - acc: 0.7523 - val_loss: 0.4408 - val_acc: 0.8019\n",
      "Epoch 2/3\n",
      " - 91s - loss: 0.2227 - acc: 0.9159 - val_loss: 0.3902 - val_acc: 0.8364\n",
      "Epoch 3/3\n",
      " - 94s - loss: 0.0947 - acc: 0.9670 - val_loss: 0.5636 - val_acc: 0.8130\n"
     ]
    },
    {
     "data": {
      "text/plain": [
       "<keras.callbacks.History at 0x7f5a783df160>"
      ]
     },
     "execution_count": 26,
     "metadata": {},
     "output_type": "execute_result"
    }
   ],
   "source": [
    "m.train(x_train, y_train, x_test, y_test, epochs=3)"
   ]
  },
  {
   "cell_type": "code",
   "execution_count": 27,
   "metadata": {},
   "outputs": [],
   "source": [
    "m.save_model('sentiment_analysis.h5')"
   ]
  },
  {
   "cell_type": "code",
   "execution_count": 53,
   "metadata": {},
   "outputs": [],
   "source": [
    "m.predict_phrase(['I hated this movie do not want to watch it again.', 'I loved this movie so much'])"
   ]
  },
  {
   "cell_type": "code",
   "execution_count": 54,
   "metadata": {},
   "outputs": [
    {
     "data": {
      "text/plain": [
       "[-0.3750063180923462, 0.2114342451095581]"
      ]
     },
     "execution_count": 54,
     "metadata": {},
     "output_type": "execute_result"
    }
   ],
   "source": [
    "m.prediction"
   ]
  }
 ],
 "metadata": {
  "kernelspec": {
   "display_name": "Python 3",
   "language": "python",
   "name": "python3"
  },
  "language_info": {
   "codemirror_mode": {
    "name": "ipython",
    "version": 3
   },
   "file_extension": ".py",
   "mimetype": "text/x-python",
   "name": "python",
   "nbconvert_exporter": "python",
   "pygments_lexer": "ipython3",
   "version": "3.7.1"
  }
 },
 "nbformat": 4,
 "nbformat_minor": 2
}
